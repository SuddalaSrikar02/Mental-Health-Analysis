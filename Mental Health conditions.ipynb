{
 "cells": [
  {
   "cell_type": "code",
   "execution_count": 2,
   "id": "d6d4ca70-ba67-478a-84af-387d267830d2",
   "metadata": {},
   "outputs": [],
   "source": [
    "import pandas as pd\n",
    "import numpy as np"
   ]
  },
  {
   "cell_type": "markdown",
   "id": "d1cee237-e845-430e-93f4-add09443c3d3",
   "metadata": {},
   "source": [
    "# Load Dataset"
   ]
  },
  {
   "cell_type": "code",
   "execution_count": 11,
   "id": "9995cf45-62a0-4398-a3d6-f20b999e0397",
   "metadata": {},
   "outputs": [],
   "source": [
    "df = pd.read_csv(r\"C:\\Users\\Suddala Vaishnavi\\Downloads\\mental health condition\\project1.csv\")"
   ]
  },
  {
   "cell_type": "code",
   "execution_count": 12,
   "id": "7e21829d-9b75-4fc9-b96f-1cb2ccd22a2f",
   "metadata": {},
   "outputs": [
    {
     "data": {
      "text/html": [
       "<div>\n",
       "<style scoped>\n",
       "    .dataframe tbody tr th:only-of-type {\n",
       "        vertical-align: middle;\n",
       "    }\n",
       "\n",
       "    .dataframe tbody tr th {\n",
       "        vertical-align: top;\n",
       "    }\n",
       "\n",
       "    .dataframe thead th {\n",
       "        text-align: right;\n",
       "    }\n",
       "</style>\n",
       "<table border=\"1\" class=\"dataframe\">\n",
       "  <thead>\n",
       "    <tr style=\"text-align: right;\">\n",
       "      <th></th>\n",
       "      <th>Unnamed: 0</th>\n",
       "      <th>id</th>\n",
       "      <th>Name</th>\n",
       "      <th>Gender</th>\n",
       "      <th>Age</th>\n",
       "      <th>City</th>\n",
       "      <th>Working Professional or Student</th>\n",
       "      <th>Profession</th>\n",
       "      <th>Work Pressure</th>\n",
       "      <th>Job Satisfaction</th>\n",
       "      <th>Sleep Duration</th>\n",
       "      <th>Dietary Habits</th>\n",
       "      <th>Degree</th>\n",
       "      <th>Suicidal thoughts</th>\n",
       "      <th>Work/Study Hours</th>\n",
       "      <th>Financial Stress</th>\n",
       "      <th>Family History of Mental Illness</th>\n",
       "    </tr>\n",
       "  </thead>\n",
       "  <tbody>\n",
       "    <tr>\n",
       "      <th>0</th>\n",
       "      <td>0</td>\n",
       "      <td>140700</td>\n",
       "      <td>Shivam</td>\n",
       "      <td>Male</td>\n",
       "      <td>53.0</td>\n",
       "      <td>Visakhapatnam</td>\n",
       "      <td>Working Professional</td>\n",
       "      <td>Judge</td>\n",
       "      <td>2.0</td>\n",
       "      <td>5.0</td>\n",
       "      <td>Less than 5 hours</td>\n",
       "      <td>Moderate</td>\n",
       "      <td>LLB</td>\n",
       "      <td>No</td>\n",
       "      <td>9.0</td>\n",
       "      <td>3.0</td>\n",
       "      <td>Yes</td>\n",
       "    </tr>\n",
       "    <tr>\n",
       "      <th>1</th>\n",
       "      <td>1</td>\n",
       "      <td>140701</td>\n",
       "      <td>Sanya</td>\n",
       "      <td>Female</td>\n",
       "      <td>58.0</td>\n",
       "      <td>Kolkata</td>\n",
       "      <td>Working Professional</td>\n",
       "      <td>Educational Consultant</td>\n",
       "      <td>2.0</td>\n",
       "      <td>4.0</td>\n",
       "      <td>Less than 5 hours</td>\n",
       "      <td>Moderate</td>\n",
       "      <td>B.Ed</td>\n",
       "      <td>No</td>\n",
       "      <td>6.0</td>\n",
       "      <td>4.0</td>\n",
       "      <td>No</td>\n",
       "    </tr>\n",
       "    <tr>\n",
       "      <th>2</th>\n",
       "      <td>2</td>\n",
       "      <td>140702</td>\n",
       "      <td>Yash</td>\n",
       "      <td>Male</td>\n",
       "      <td>53.0</td>\n",
       "      <td>Jaipur</td>\n",
       "      <td>Working Professional</td>\n",
       "      <td>Teacher</td>\n",
       "      <td>4.0</td>\n",
       "      <td>1.0</td>\n",
       "      <td>7-8 hours</td>\n",
       "      <td>Moderate</td>\n",
       "      <td>B.Arch</td>\n",
       "      <td>Yes</td>\n",
       "      <td>12.0</td>\n",
       "      <td>4.0</td>\n",
       "      <td>No</td>\n",
       "    </tr>\n",
       "    <tr>\n",
       "      <th>3</th>\n",
       "      <td>3</td>\n",
       "      <td>140703</td>\n",
       "      <td>Nalini</td>\n",
       "      <td>Female</td>\n",
       "      <td>23.0</td>\n",
       "      <td>Rajkot</td>\n",
       "      <td>Student</td>\n",
       "      <td>NaN</td>\n",
       "      <td>NaN</td>\n",
       "      <td>NaN</td>\n",
       "      <td>More than 8 hours</td>\n",
       "      <td>Moderate</td>\n",
       "      <td>BSc</td>\n",
       "      <td>Yes</td>\n",
       "      <td>10.0</td>\n",
       "      <td>4.0</td>\n",
       "      <td>No</td>\n",
       "    </tr>\n",
       "    <tr>\n",
       "      <th>4</th>\n",
       "      <td>4</td>\n",
       "      <td>140704</td>\n",
       "      <td>Shaurya</td>\n",
       "      <td>Male</td>\n",
       "      <td>47.0</td>\n",
       "      <td>Kalyan</td>\n",
       "      <td>Working Professional</td>\n",
       "      <td>Teacher</td>\n",
       "      <td>5.0</td>\n",
       "      <td>5.0</td>\n",
       "      <td>7-8 hours</td>\n",
       "      <td>Moderate</td>\n",
       "      <td>BCA</td>\n",
       "      <td>Yes</td>\n",
       "      <td>3.0</td>\n",
       "      <td>4.0</td>\n",
       "      <td>No</td>\n",
       "    </tr>\n",
       "    <tr>\n",
       "      <th>...</th>\n",
       "      <td>...</td>\n",
       "      <td>...</td>\n",
       "      <td>...</td>\n",
       "      <td>...</td>\n",
       "      <td>...</td>\n",
       "      <td>...</td>\n",
       "      <td>...</td>\n",
       "      <td>...</td>\n",
       "      <td>...</td>\n",
       "      <td>...</td>\n",
       "      <td>...</td>\n",
       "      <td>...</td>\n",
       "      <td>...</td>\n",
       "      <td>...</td>\n",
       "      <td>...</td>\n",
       "      <td>...</td>\n",
       "      <td>...</td>\n",
       "    </tr>\n",
       "    <tr>\n",
       "      <th>93795</th>\n",
       "      <td>93795</td>\n",
       "      <td>234495</td>\n",
       "      <td>Zoya</td>\n",
       "      <td>Female</td>\n",
       "      <td>49.0</td>\n",
       "      <td>Jaipur</td>\n",
       "      <td>Working Professional</td>\n",
       "      <td>Pilot</td>\n",
       "      <td>3.0</td>\n",
       "      <td>5.0</td>\n",
       "      <td>Less than 5 hours</td>\n",
       "      <td>Moderate</td>\n",
       "      <td>BSc</td>\n",
       "      <td>Yes</td>\n",
       "      <td>2.0</td>\n",
       "      <td>2.0</td>\n",
       "      <td>Yes</td>\n",
       "    </tr>\n",
       "    <tr>\n",
       "      <th>93796</th>\n",
       "      <td>93796</td>\n",
       "      <td>234496</td>\n",
       "      <td>Shlok</td>\n",
       "      <td>Male</td>\n",
       "      <td>29.0</td>\n",
       "      <td>Ahmedabad</td>\n",
       "      <td>Working Professional</td>\n",
       "      <td>Pilot</td>\n",
       "      <td>5.0</td>\n",
       "      <td>1.0</td>\n",
       "      <td>7-8 hours</td>\n",
       "      <td>Moderate</td>\n",
       "      <td>BE</td>\n",
       "      <td>Yes</td>\n",
       "      <td>11.0</td>\n",
       "      <td>3.0</td>\n",
       "      <td>Yes</td>\n",
       "    </tr>\n",
       "    <tr>\n",
       "      <th>93797</th>\n",
       "      <td>93797</td>\n",
       "      <td>234497</td>\n",
       "      <td>Rishi</td>\n",
       "      <td>Male</td>\n",
       "      <td>24.0</td>\n",
       "      <td>Visakhapatnam</td>\n",
       "      <td>Student</td>\n",
       "      <td>NaN</td>\n",
       "      <td>NaN</td>\n",
       "      <td>NaN</td>\n",
       "      <td>7-8 hours</td>\n",
       "      <td>Moderate</td>\n",
       "      <td>B.Tech</td>\n",
       "      <td>No</td>\n",
       "      <td>7.0</td>\n",
       "      <td>1.0</td>\n",
       "      <td>No</td>\n",
       "    </tr>\n",
       "    <tr>\n",
       "      <th>93798</th>\n",
       "      <td>93798</td>\n",
       "      <td>234498</td>\n",
       "      <td>Eshita</td>\n",
       "      <td>Female</td>\n",
       "      <td>23.0</td>\n",
       "      <td>Kalyan</td>\n",
       "      <td>Working Professional</td>\n",
       "      <td>Marketing Manager</td>\n",
       "      <td>4.0</td>\n",
       "      <td>2.0</td>\n",
       "      <td>5-6 hours</td>\n",
       "      <td>Healthy</td>\n",
       "      <td>BA</td>\n",
       "      <td>Yes</td>\n",
       "      <td>7.0</td>\n",
       "      <td>5.0</td>\n",
       "      <td>Yes</td>\n",
       "    </tr>\n",
       "    <tr>\n",
       "      <th>93799</th>\n",
       "      <td>93799</td>\n",
       "      <td>234499</td>\n",
       "      <td>Gauri</td>\n",
       "      <td>Female</td>\n",
       "      <td>43.0</td>\n",
       "      <td>Varanasi</td>\n",
       "      <td>Working Professional</td>\n",
       "      <td>Educational Consultant</td>\n",
       "      <td>5.0</td>\n",
       "      <td>2.0</td>\n",
       "      <td>More than 8 hours</td>\n",
       "      <td>Healthy</td>\n",
       "      <td>B.Ed</td>\n",
       "      <td>No</td>\n",
       "      <td>11.0</td>\n",
       "      <td>2.0</td>\n",
       "      <td>No</td>\n",
       "    </tr>\n",
       "  </tbody>\n",
       "</table>\n",
       "<p>93800 rows × 17 columns</p>\n",
       "</div>"
      ],
      "text/plain": [
       "       Unnamed: 0      id     Name  Gender   Age           City  \\\n",
       "0               0  140700   Shivam    Male  53.0  Visakhapatnam   \n",
       "1               1  140701    Sanya  Female  58.0        Kolkata   \n",
       "2               2  140702     Yash    Male  53.0         Jaipur   \n",
       "3               3  140703   Nalini  Female  23.0         Rajkot   \n",
       "4               4  140704  Shaurya    Male  47.0         Kalyan   \n",
       "...           ...     ...      ...     ...   ...            ...   \n",
       "93795       93795  234495     Zoya  Female  49.0         Jaipur   \n",
       "93796       93796  234496    Shlok    Male  29.0      Ahmedabad   \n",
       "93797       93797  234497    Rishi    Male  24.0  Visakhapatnam   \n",
       "93798       93798  234498   Eshita  Female  23.0         Kalyan   \n",
       "93799       93799  234499    Gauri  Female  43.0       Varanasi   \n",
       "\n",
       "      Working Professional or Student              Profession  Work Pressure  \\\n",
       "0                Working Professional                   Judge            2.0   \n",
       "1                Working Professional  Educational Consultant            2.0   \n",
       "2                Working Professional                 Teacher            4.0   \n",
       "3                             Student                     NaN            NaN   \n",
       "4                Working Professional                 Teacher            5.0   \n",
       "...                               ...                     ...            ...   \n",
       "93795            Working Professional                   Pilot            3.0   \n",
       "93796            Working Professional                   Pilot            5.0   \n",
       "93797                         Student                     NaN            NaN   \n",
       "93798            Working Professional       Marketing Manager            4.0   \n",
       "93799            Working Professional  Educational Consultant            5.0   \n",
       "\n",
       "       Job Satisfaction     Sleep Duration Dietary Habits  Degree  \\\n",
       "0                   5.0  Less than 5 hours       Moderate     LLB   \n",
       "1                   4.0  Less than 5 hours       Moderate    B.Ed   \n",
       "2                   1.0          7-8 hours       Moderate  B.Arch   \n",
       "3                   NaN  More than 8 hours       Moderate     BSc   \n",
       "4                   5.0          7-8 hours       Moderate     BCA   \n",
       "...                 ...                ...            ...     ...   \n",
       "93795               5.0  Less than 5 hours       Moderate     BSc   \n",
       "93796               1.0          7-8 hours       Moderate      BE   \n",
       "93797               NaN          7-8 hours       Moderate  B.Tech   \n",
       "93798               2.0          5-6 hours        Healthy      BA   \n",
       "93799               2.0  More than 8 hours        Healthy    B.Ed   \n",
       "\n",
       "      Suicidal thoughts  Work/Study Hours  Financial Stress  \\\n",
       "0                    No               9.0               3.0   \n",
       "1                    No               6.0               4.0   \n",
       "2                   Yes              12.0               4.0   \n",
       "3                   Yes              10.0               4.0   \n",
       "4                   Yes               3.0               4.0   \n",
       "...                 ...               ...               ...   \n",
       "93795               Yes               2.0               2.0   \n",
       "93796               Yes              11.0               3.0   \n",
       "93797                No               7.0               1.0   \n",
       "93798               Yes               7.0               5.0   \n",
       "93799                No              11.0               2.0   \n",
       "\n",
       "      Family History of Mental Illness  \n",
       "0                                  Yes  \n",
       "1                                   No  \n",
       "2                                   No  \n",
       "3                                   No  \n",
       "4                                   No  \n",
       "...                                ...  \n",
       "93795                              Yes  \n",
       "93796                              Yes  \n",
       "93797                               No  \n",
       "93798                              Yes  \n",
       "93799                               No  \n",
       "\n",
       "[93800 rows x 17 columns]"
      ]
     },
     "execution_count": 12,
     "metadata": {},
     "output_type": "execute_result"
    }
   ],
   "source": [
    "df"
   ]
  },
  {
   "cell_type": "code",
   "execution_count": 13,
   "id": "04d92cc7-a7f1-4013-8dbe-3cfaa22b5a87",
   "metadata": {},
   "outputs": [],
   "source": [
    "df.drop([\"Unnamed: 0\"],axis=1,inplace=True)"
   ]
  },
  {
   "cell_type": "code",
   "execution_count": 14,
   "id": "fa22687b-2828-4863-9cbf-2d08e8dcec9c",
   "metadata": {},
   "outputs": [
    {
     "data": {
      "text/html": [
       "<div>\n",
       "<style scoped>\n",
       "    .dataframe tbody tr th:only-of-type {\n",
       "        vertical-align: middle;\n",
       "    }\n",
       "\n",
       "    .dataframe tbody tr th {\n",
       "        vertical-align: top;\n",
       "    }\n",
       "\n",
       "    .dataframe thead th {\n",
       "        text-align: right;\n",
       "    }\n",
       "</style>\n",
       "<table border=\"1\" class=\"dataframe\">\n",
       "  <thead>\n",
       "    <tr style=\"text-align: right;\">\n",
       "      <th></th>\n",
       "      <th>id</th>\n",
       "      <th>Name</th>\n",
       "      <th>Gender</th>\n",
       "      <th>Age</th>\n",
       "      <th>City</th>\n",
       "      <th>Working Professional or Student</th>\n",
       "      <th>Profession</th>\n",
       "      <th>Work Pressure</th>\n",
       "      <th>Job Satisfaction</th>\n",
       "      <th>Sleep Duration</th>\n",
       "      <th>Dietary Habits</th>\n",
       "      <th>Degree</th>\n",
       "      <th>Suicidal thoughts</th>\n",
       "      <th>Work/Study Hours</th>\n",
       "      <th>Financial Stress</th>\n",
       "      <th>Family History of Mental Illness</th>\n",
       "    </tr>\n",
       "  </thead>\n",
       "  <tbody>\n",
       "    <tr>\n",
       "      <th>0</th>\n",
       "      <td>140700</td>\n",
       "      <td>Shivam</td>\n",
       "      <td>Male</td>\n",
       "      <td>53.0</td>\n",
       "      <td>Visakhapatnam</td>\n",
       "      <td>Working Professional</td>\n",
       "      <td>Judge</td>\n",
       "      <td>2.0</td>\n",
       "      <td>5.0</td>\n",
       "      <td>Less than 5 hours</td>\n",
       "      <td>Moderate</td>\n",
       "      <td>LLB</td>\n",
       "      <td>No</td>\n",
       "      <td>9.0</td>\n",
       "      <td>3.0</td>\n",
       "      <td>Yes</td>\n",
       "    </tr>\n",
       "    <tr>\n",
       "      <th>1</th>\n",
       "      <td>140701</td>\n",
       "      <td>Sanya</td>\n",
       "      <td>Female</td>\n",
       "      <td>58.0</td>\n",
       "      <td>Kolkata</td>\n",
       "      <td>Working Professional</td>\n",
       "      <td>Educational Consultant</td>\n",
       "      <td>2.0</td>\n",
       "      <td>4.0</td>\n",
       "      <td>Less than 5 hours</td>\n",
       "      <td>Moderate</td>\n",
       "      <td>B.Ed</td>\n",
       "      <td>No</td>\n",
       "      <td>6.0</td>\n",
       "      <td>4.0</td>\n",
       "      <td>No</td>\n",
       "    </tr>\n",
       "    <tr>\n",
       "      <th>2</th>\n",
       "      <td>140702</td>\n",
       "      <td>Yash</td>\n",
       "      <td>Male</td>\n",
       "      <td>53.0</td>\n",
       "      <td>Jaipur</td>\n",
       "      <td>Working Professional</td>\n",
       "      <td>Teacher</td>\n",
       "      <td>4.0</td>\n",
       "      <td>1.0</td>\n",
       "      <td>7-8 hours</td>\n",
       "      <td>Moderate</td>\n",
       "      <td>B.Arch</td>\n",
       "      <td>Yes</td>\n",
       "      <td>12.0</td>\n",
       "      <td>4.0</td>\n",
       "      <td>No</td>\n",
       "    </tr>\n",
       "    <tr>\n",
       "      <th>3</th>\n",
       "      <td>140703</td>\n",
       "      <td>Nalini</td>\n",
       "      <td>Female</td>\n",
       "      <td>23.0</td>\n",
       "      <td>Rajkot</td>\n",
       "      <td>Student</td>\n",
       "      <td>NaN</td>\n",
       "      <td>NaN</td>\n",
       "      <td>NaN</td>\n",
       "      <td>More than 8 hours</td>\n",
       "      <td>Moderate</td>\n",
       "      <td>BSc</td>\n",
       "      <td>Yes</td>\n",
       "      <td>10.0</td>\n",
       "      <td>4.0</td>\n",
       "      <td>No</td>\n",
       "    </tr>\n",
       "    <tr>\n",
       "      <th>4</th>\n",
       "      <td>140704</td>\n",
       "      <td>Shaurya</td>\n",
       "      <td>Male</td>\n",
       "      <td>47.0</td>\n",
       "      <td>Kalyan</td>\n",
       "      <td>Working Professional</td>\n",
       "      <td>Teacher</td>\n",
       "      <td>5.0</td>\n",
       "      <td>5.0</td>\n",
       "      <td>7-8 hours</td>\n",
       "      <td>Moderate</td>\n",
       "      <td>BCA</td>\n",
       "      <td>Yes</td>\n",
       "      <td>3.0</td>\n",
       "      <td>4.0</td>\n",
       "      <td>No</td>\n",
       "    </tr>\n",
       "    <tr>\n",
       "      <th>...</th>\n",
       "      <td>...</td>\n",
       "      <td>...</td>\n",
       "      <td>...</td>\n",
       "      <td>...</td>\n",
       "      <td>...</td>\n",
       "      <td>...</td>\n",
       "      <td>...</td>\n",
       "      <td>...</td>\n",
       "      <td>...</td>\n",
       "      <td>...</td>\n",
       "      <td>...</td>\n",
       "      <td>...</td>\n",
       "      <td>...</td>\n",
       "      <td>...</td>\n",
       "      <td>...</td>\n",
       "      <td>...</td>\n",
       "    </tr>\n",
       "    <tr>\n",
       "      <th>93795</th>\n",
       "      <td>234495</td>\n",
       "      <td>Zoya</td>\n",
       "      <td>Female</td>\n",
       "      <td>49.0</td>\n",
       "      <td>Jaipur</td>\n",
       "      <td>Working Professional</td>\n",
       "      <td>Pilot</td>\n",
       "      <td>3.0</td>\n",
       "      <td>5.0</td>\n",
       "      <td>Less than 5 hours</td>\n",
       "      <td>Moderate</td>\n",
       "      <td>BSc</td>\n",
       "      <td>Yes</td>\n",
       "      <td>2.0</td>\n",
       "      <td>2.0</td>\n",
       "      <td>Yes</td>\n",
       "    </tr>\n",
       "    <tr>\n",
       "      <th>93796</th>\n",
       "      <td>234496</td>\n",
       "      <td>Shlok</td>\n",
       "      <td>Male</td>\n",
       "      <td>29.0</td>\n",
       "      <td>Ahmedabad</td>\n",
       "      <td>Working Professional</td>\n",
       "      <td>Pilot</td>\n",
       "      <td>5.0</td>\n",
       "      <td>1.0</td>\n",
       "      <td>7-8 hours</td>\n",
       "      <td>Moderate</td>\n",
       "      <td>BE</td>\n",
       "      <td>Yes</td>\n",
       "      <td>11.0</td>\n",
       "      <td>3.0</td>\n",
       "      <td>Yes</td>\n",
       "    </tr>\n",
       "    <tr>\n",
       "      <th>93797</th>\n",
       "      <td>234497</td>\n",
       "      <td>Rishi</td>\n",
       "      <td>Male</td>\n",
       "      <td>24.0</td>\n",
       "      <td>Visakhapatnam</td>\n",
       "      <td>Student</td>\n",
       "      <td>NaN</td>\n",
       "      <td>NaN</td>\n",
       "      <td>NaN</td>\n",
       "      <td>7-8 hours</td>\n",
       "      <td>Moderate</td>\n",
       "      <td>B.Tech</td>\n",
       "      <td>No</td>\n",
       "      <td>7.0</td>\n",
       "      <td>1.0</td>\n",
       "      <td>No</td>\n",
       "    </tr>\n",
       "    <tr>\n",
       "      <th>93798</th>\n",
       "      <td>234498</td>\n",
       "      <td>Eshita</td>\n",
       "      <td>Female</td>\n",
       "      <td>23.0</td>\n",
       "      <td>Kalyan</td>\n",
       "      <td>Working Professional</td>\n",
       "      <td>Marketing Manager</td>\n",
       "      <td>4.0</td>\n",
       "      <td>2.0</td>\n",
       "      <td>5-6 hours</td>\n",
       "      <td>Healthy</td>\n",
       "      <td>BA</td>\n",
       "      <td>Yes</td>\n",
       "      <td>7.0</td>\n",
       "      <td>5.0</td>\n",
       "      <td>Yes</td>\n",
       "    </tr>\n",
       "    <tr>\n",
       "      <th>93799</th>\n",
       "      <td>234499</td>\n",
       "      <td>Gauri</td>\n",
       "      <td>Female</td>\n",
       "      <td>43.0</td>\n",
       "      <td>Varanasi</td>\n",
       "      <td>Working Professional</td>\n",
       "      <td>Educational Consultant</td>\n",
       "      <td>5.0</td>\n",
       "      <td>2.0</td>\n",
       "      <td>More than 8 hours</td>\n",
       "      <td>Healthy</td>\n",
       "      <td>B.Ed</td>\n",
       "      <td>No</td>\n",
       "      <td>11.0</td>\n",
       "      <td>2.0</td>\n",
       "      <td>No</td>\n",
       "    </tr>\n",
       "  </tbody>\n",
       "</table>\n",
       "<p>93800 rows × 16 columns</p>\n",
       "</div>"
      ],
      "text/plain": [
       "           id     Name  Gender   Age           City  \\\n",
       "0      140700   Shivam    Male  53.0  Visakhapatnam   \n",
       "1      140701    Sanya  Female  58.0        Kolkata   \n",
       "2      140702     Yash    Male  53.0         Jaipur   \n",
       "3      140703   Nalini  Female  23.0         Rajkot   \n",
       "4      140704  Shaurya    Male  47.0         Kalyan   \n",
       "...       ...      ...     ...   ...            ...   \n",
       "93795  234495     Zoya  Female  49.0         Jaipur   \n",
       "93796  234496    Shlok    Male  29.0      Ahmedabad   \n",
       "93797  234497    Rishi    Male  24.0  Visakhapatnam   \n",
       "93798  234498   Eshita  Female  23.0         Kalyan   \n",
       "93799  234499    Gauri  Female  43.0       Varanasi   \n",
       "\n",
       "      Working Professional or Student              Profession  Work Pressure  \\\n",
       "0                Working Professional                   Judge            2.0   \n",
       "1                Working Professional  Educational Consultant            2.0   \n",
       "2                Working Professional                 Teacher            4.0   \n",
       "3                             Student                     NaN            NaN   \n",
       "4                Working Professional                 Teacher            5.0   \n",
       "...                               ...                     ...            ...   \n",
       "93795            Working Professional                   Pilot            3.0   \n",
       "93796            Working Professional                   Pilot            5.0   \n",
       "93797                         Student                     NaN            NaN   \n",
       "93798            Working Professional       Marketing Manager            4.0   \n",
       "93799            Working Professional  Educational Consultant            5.0   \n",
       "\n",
       "       Job Satisfaction     Sleep Duration Dietary Habits  Degree  \\\n",
       "0                   5.0  Less than 5 hours       Moderate     LLB   \n",
       "1                   4.0  Less than 5 hours       Moderate    B.Ed   \n",
       "2                   1.0          7-8 hours       Moderate  B.Arch   \n",
       "3                   NaN  More than 8 hours       Moderate     BSc   \n",
       "4                   5.0          7-8 hours       Moderate     BCA   \n",
       "...                 ...                ...            ...     ...   \n",
       "93795               5.0  Less than 5 hours       Moderate     BSc   \n",
       "93796               1.0          7-8 hours       Moderate      BE   \n",
       "93797               NaN          7-8 hours       Moderate  B.Tech   \n",
       "93798               2.0          5-6 hours        Healthy      BA   \n",
       "93799               2.0  More than 8 hours        Healthy    B.Ed   \n",
       "\n",
       "      Suicidal thoughts  Work/Study Hours  Financial Stress  \\\n",
       "0                    No               9.0               3.0   \n",
       "1                    No               6.0               4.0   \n",
       "2                   Yes              12.0               4.0   \n",
       "3                   Yes              10.0               4.0   \n",
       "4                   Yes               3.0               4.0   \n",
       "...                 ...               ...               ...   \n",
       "93795               Yes               2.0               2.0   \n",
       "93796               Yes              11.0               3.0   \n",
       "93797                No               7.0               1.0   \n",
       "93798               Yes               7.0               5.0   \n",
       "93799                No              11.0               2.0   \n",
       "\n",
       "      Family History of Mental Illness  \n",
       "0                                  Yes  \n",
       "1                                   No  \n",
       "2                                   No  \n",
       "3                                   No  \n",
       "4                                   No  \n",
       "...                                ...  \n",
       "93795                              Yes  \n",
       "93796                              Yes  \n",
       "93797                               No  \n",
       "93798                              Yes  \n",
       "93799                               No  \n",
       "\n",
       "[93800 rows x 16 columns]"
      ]
     },
     "execution_count": 14,
     "metadata": {},
     "output_type": "execute_result"
    }
   ],
   "source": [
    "df"
   ]
  },
  {
   "cell_type": "markdown",
   "id": "d08cadfb-e182-457a-9d0f-20110413fe7b",
   "metadata": {},
   "source": [
    "# Observation:\n",
    "- Dataset has been loaded succesfully using pd.read_csv()"
   ]
  },
  {
   "cell_type": "markdown",
   "id": "a476f8c3-490e-4f5a-9bec-c4c2cb89c5f8",
   "metadata": {},
   "source": [
    "# Understanding the structure of the Dataset"
   ]
  },
  {
   "cell_type": "code",
   "execution_count": 15,
   "id": "4c29b104-9e86-4355-9af7-42d07b13aafd",
   "metadata": {},
   "outputs": [
    {
     "data": {
      "text/plain": [
       "(93800, 16)"
      ]
     },
     "execution_count": 15,
     "metadata": {},
     "output_type": "execute_result"
    }
   ],
   "source": [
    "df.shape"
   ]
  },
  {
   "cell_type": "markdown",
   "id": "b606cc4e-04b1-499b-ac18-dfad8b745160",
   "metadata": {},
   "source": [
    "# Obesrvation:\n",
    "- The dataset contains 93800 rows and 16 columns which representing  students mental health conditions."
   ]
  },
  {
   "cell_type": "markdown",
   "id": "7598c8f1-f196-4f08-a220-e31960e3fe3b",
   "metadata": {},
   "source": [
    "# Previewing the first few rows"
   ]
  },
  {
   "cell_type": "code",
   "execution_count": 16,
   "id": "5b61692a-4720-4289-9062-7d2a0857ac64",
   "metadata": {},
   "outputs": [
    {
     "data": {
      "text/html": [
       "<div>\n",
       "<style scoped>\n",
       "    .dataframe tbody tr th:only-of-type {\n",
       "        vertical-align: middle;\n",
       "    }\n",
       "\n",
       "    .dataframe tbody tr th {\n",
       "        vertical-align: top;\n",
       "    }\n",
       "\n",
       "    .dataframe thead th {\n",
       "        text-align: right;\n",
       "    }\n",
       "</style>\n",
       "<table border=\"1\" class=\"dataframe\">\n",
       "  <thead>\n",
       "    <tr style=\"text-align: right;\">\n",
       "      <th></th>\n",
       "      <th>id</th>\n",
       "      <th>Name</th>\n",
       "      <th>Gender</th>\n",
       "      <th>Age</th>\n",
       "      <th>City</th>\n",
       "      <th>Working Professional or Student</th>\n",
       "      <th>Profession</th>\n",
       "      <th>Work Pressure</th>\n",
       "      <th>Job Satisfaction</th>\n",
       "      <th>Sleep Duration</th>\n",
       "      <th>Dietary Habits</th>\n",
       "      <th>Degree</th>\n",
       "      <th>Suicidal thoughts</th>\n",
       "      <th>Work/Study Hours</th>\n",
       "      <th>Financial Stress</th>\n",
       "      <th>Family History of Mental Illness</th>\n",
       "    </tr>\n",
       "  </thead>\n",
       "  <tbody>\n",
       "    <tr>\n",
       "      <th>0</th>\n",
       "      <td>140700</td>\n",
       "      <td>Shivam</td>\n",
       "      <td>Male</td>\n",
       "      <td>53.0</td>\n",
       "      <td>Visakhapatnam</td>\n",
       "      <td>Working Professional</td>\n",
       "      <td>Judge</td>\n",
       "      <td>2.0</td>\n",
       "      <td>5.0</td>\n",
       "      <td>Less than 5 hours</td>\n",
       "      <td>Moderate</td>\n",
       "      <td>LLB</td>\n",
       "      <td>No</td>\n",
       "      <td>9.0</td>\n",
       "      <td>3.0</td>\n",
       "      <td>Yes</td>\n",
       "    </tr>\n",
       "    <tr>\n",
       "      <th>1</th>\n",
       "      <td>140701</td>\n",
       "      <td>Sanya</td>\n",
       "      <td>Female</td>\n",
       "      <td>58.0</td>\n",
       "      <td>Kolkata</td>\n",
       "      <td>Working Professional</td>\n",
       "      <td>Educational Consultant</td>\n",
       "      <td>2.0</td>\n",
       "      <td>4.0</td>\n",
       "      <td>Less than 5 hours</td>\n",
       "      <td>Moderate</td>\n",
       "      <td>B.Ed</td>\n",
       "      <td>No</td>\n",
       "      <td>6.0</td>\n",
       "      <td>4.0</td>\n",
       "      <td>No</td>\n",
       "    </tr>\n",
       "    <tr>\n",
       "      <th>2</th>\n",
       "      <td>140702</td>\n",
       "      <td>Yash</td>\n",
       "      <td>Male</td>\n",
       "      <td>53.0</td>\n",
       "      <td>Jaipur</td>\n",
       "      <td>Working Professional</td>\n",
       "      <td>Teacher</td>\n",
       "      <td>4.0</td>\n",
       "      <td>1.0</td>\n",
       "      <td>7-8 hours</td>\n",
       "      <td>Moderate</td>\n",
       "      <td>B.Arch</td>\n",
       "      <td>Yes</td>\n",
       "      <td>12.0</td>\n",
       "      <td>4.0</td>\n",
       "      <td>No</td>\n",
       "    </tr>\n",
       "    <tr>\n",
       "      <th>3</th>\n",
       "      <td>140703</td>\n",
       "      <td>Nalini</td>\n",
       "      <td>Female</td>\n",
       "      <td>23.0</td>\n",
       "      <td>Rajkot</td>\n",
       "      <td>Student</td>\n",
       "      <td>NaN</td>\n",
       "      <td>NaN</td>\n",
       "      <td>NaN</td>\n",
       "      <td>More than 8 hours</td>\n",
       "      <td>Moderate</td>\n",
       "      <td>BSc</td>\n",
       "      <td>Yes</td>\n",
       "      <td>10.0</td>\n",
       "      <td>4.0</td>\n",
       "      <td>No</td>\n",
       "    </tr>\n",
       "    <tr>\n",
       "      <th>4</th>\n",
       "      <td>140704</td>\n",
       "      <td>Shaurya</td>\n",
       "      <td>Male</td>\n",
       "      <td>47.0</td>\n",
       "      <td>Kalyan</td>\n",
       "      <td>Working Professional</td>\n",
       "      <td>Teacher</td>\n",
       "      <td>5.0</td>\n",
       "      <td>5.0</td>\n",
       "      <td>7-8 hours</td>\n",
       "      <td>Moderate</td>\n",
       "      <td>BCA</td>\n",
       "      <td>Yes</td>\n",
       "      <td>3.0</td>\n",
       "      <td>4.0</td>\n",
       "      <td>No</td>\n",
       "    </tr>\n",
       "  </tbody>\n",
       "</table>\n",
       "</div>"
      ],
      "text/plain": [
       "       id     Name  Gender   Age           City  \\\n",
       "0  140700   Shivam    Male  53.0  Visakhapatnam   \n",
       "1  140701    Sanya  Female  58.0        Kolkata   \n",
       "2  140702     Yash    Male  53.0         Jaipur   \n",
       "3  140703   Nalini  Female  23.0         Rajkot   \n",
       "4  140704  Shaurya    Male  47.0         Kalyan   \n",
       "\n",
       "  Working Professional or Student              Profession  Work Pressure  \\\n",
       "0            Working Professional                   Judge            2.0   \n",
       "1            Working Professional  Educational Consultant            2.0   \n",
       "2            Working Professional                 Teacher            4.0   \n",
       "3                         Student                     NaN            NaN   \n",
       "4            Working Professional                 Teacher            5.0   \n",
       "\n",
       "   Job Satisfaction     Sleep Duration Dietary Habits  Degree  \\\n",
       "0               5.0  Less than 5 hours       Moderate     LLB   \n",
       "1               4.0  Less than 5 hours       Moderate    B.Ed   \n",
       "2               1.0          7-8 hours       Moderate  B.Arch   \n",
       "3               NaN  More than 8 hours       Moderate     BSc   \n",
       "4               5.0          7-8 hours       Moderate     BCA   \n",
       "\n",
       "  Suicidal thoughts  Work/Study Hours  Financial Stress  \\\n",
       "0                No               9.0               3.0   \n",
       "1                No               6.0               4.0   \n",
       "2               Yes              12.0               4.0   \n",
       "3               Yes              10.0               4.0   \n",
       "4               Yes               3.0               4.0   \n",
       "\n",
       "  Family History of Mental Illness  \n",
       "0                              Yes  \n",
       "1                               No  \n",
       "2                               No  \n",
       "3                               No  \n",
       "4                               No  "
      ]
     },
     "execution_count": 16,
     "metadata": {},
     "output_type": "execute_result"
    }
   ],
   "source": [
    "df.head()"
   ]
  },
  {
   "cell_type": "markdown",
   "id": "acb862cc-98fb-4cb2-afda-8b6c8bb5f6f9",
   "metadata": {},
   "source": [
    "# Observation:\n",
    "- The preview shows the first few rows of the data and helps us check if the file loaded correctly."
   ]
  },
  {
   "cell_type": "markdown",
   "id": "c155be8e-defe-4c37-b34f-c2f1d86939bb",
   "metadata": {},
   "source": [
    "# Dataset Structure and Data Types"
   ]
  },
  {
   "cell_type": "code",
   "execution_count": 17,
   "id": "cea00973-4dcc-4274-af25-9393092d04c2",
   "metadata": {},
   "outputs": [
    {
     "name": "stdout",
     "output_type": "stream",
     "text": [
      "<class 'pandas.core.frame.DataFrame'>\n",
      "RangeIndex: 93800 entries, 0 to 93799\n",
      "Data columns (total 16 columns):\n",
      " #   Column                            Non-Null Count  Dtype  \n",
      "---  ------                            --------------  -----  \n",
      " 0   id                                93800 non-null  int64  \n",
      " 1   Name                              93800 non-null  object \n",
      " 2   Gender                            93800 non-null  object \n",
      " 3   Age                               93800 non-null  float64\n",
      " 4   City                              93800 non-null  object \n",
      " 5   Working Professional or Student   93800 non-null  object \n",
      " 6   Profession                        69168 non-null  object \n",
      " 7   Work Pressure                     75022 non-null  float64\n",
      " 8   Job Satisfaction                  75026 non-null  float64\n",
      " 9   Sleep Duration                    93800 non-null  object \n",
      " 10  Dietary Habits                    93795 non-null  object \n",
      " 11  Degree                            93798 non-null  object \n",
      " 12  Suicidal thoughts                 93800 non-null  object \n",
      " 13  Work/Study Hours                  93800 non-null  float64\n",
      " 14  Financial Stress                  93800 non-null  float64\n",
      " 15  Family History of Mental Illness  93800 non-null  object \n",
      "dtypes: float64(5), int64(1), object(10)\n",
      "memory usage: 11.5+ MB\n"
     ]
    }
   ],
   "source": [
    "df.info()"
   ]
  },
  {
   "cell_type": "markdown",
   "id": "c7f97f92-a6a6-4a3a-99a3-fcd3f9123b79",
   "metadata": {},
   "source": [
    "# Observation:\n",
    "- The dataset contains 93800 records and 16 columns.\n",
    "- Out of the 19 columns\n",
    "          - 6 are numerical (int64/float64).\n",
    "          - 10 are categorical(object type).\n",
    "- The dataset occupies approximatly 11.6"
   ]
  },
  {
   "cell_type": "markdown",
   "id": "78b0e5f0-184d-477a-8706-921f069c6c75",
   "metadata": {},
   "source": [
    "# Statistical Overview of Numerical Data"
   ]
  },
  {
   "cell_type": "code",
   "execution_count": 18,
   "id": "6d8ac67e-97ee-45f4-9b1a-4d35c0918467",
   "metadata": {},
   "outputs": [
    {
     "data": {
      "text/html": [
       "<div>\n",
       "<style scoped>\n",
       "    .dataframe tbody tr th:only-of-type {\n",
       "        vertical-align: middle;\n",
       "    }\n",
       "\n",
       "    .dataframe tbody tr th {\n",
       "        vertical-align: top;\n",
       "    }\n",
       "\n",
       "    .dataframe thead th {\n",
       "        text-align: right;\n",
       "    }\n",
       "</style>\n",
       "<table border=\"1\" class=\"dataframe\">\n",
       "  <thead>\n",
       "    <tr style=\"text-align: right;\">\n",
       "      <th></th>\n",
       "      <th>id</th>\n",
       "      <th>Age</th>\n",
       "      <th>Work Pressure</th>\n",
       "      <th>Job Satisfaction</th>\n",
       "      <th>Work/Study Hours</th>\n",
       "      <th>Financial Stress</th>\n",
       "    </tr>\n",
       "  </thead>\n",
       "  <tbody>\n",
       "    <tr>\n",
       "      <th>count</th>\n",
       "      <td>93800.000000</td>\n",
       "      <td>93800.000000</td>\n",
       "      <td>75022.000000</td>\n",
       "      <td>75026.00000</td>\n",
       "      <td>93800.000000</td>\n",
       "      <td>93800.000000</td>\n",
       "    </tr>\n",
       "    <tr>\n",
       "      <th>mean</th>\n",
       "      <td>187599.500000</td>\n",
       "      <td>40.321685</td>\n",
       "      <td>3.011797</td>\n",
       "      <td>2.96092</td>\n",
       "      <td>6.247335</td>\n",
       "      <td>2.978763</td>\n",
       "    </tr>\n",
       "    <tr>\n",
       "      <th>std</th>\n",
       "      <td>27077.871962</td>\n",
       "      <td>12.393480</td>\n",
       "      <td>1.403563</td>\n",
       "      <td>1.41071</td>\n",
       "      <td>3.858191</td>\n",
       "      <td>1.414604</td>\n",
       "    </tr>\n",
       "    <tr>\n",
       "      <th>min</th>\n",
       "      <td>140700.000000</td>\n",
       "      <td>18.000000</td>\n",
       "      <td>1.000000</td>\n",
       "      <td>1.00000</td>\n",
       "      <td>0.000000</td>\n",
       "      <td>1.000000</td>\n",
       "    </tr>\n",
       "    <tr>\n",
       "      <th>25%</th>\n",
       "      <td>164149.750000</td>\n",
       "      <td>29.000000</td>\n",
       "      <td>2.000000</td>\n",
       "      <td>2.00000</td>\n",
       "      <td>3.000000</td>\n",
       "      <td>2.000000</td>\n",
       "    </tr>\n",
       "    <tr>\n",
       "      <th>50%</th>\n",
       "      <td>187599.500000</td>\n",
       "      <td>42.000000</td>\n",
       "      <td>3.000000</td>\n",
       "      <td>3.00000</td>\n",
       "      <td>6.000000</td>\n",
       "      <td>3.000000</td>\n",
       "    </tr>\n",
       "    <tr>\n",
       "      <th>75%</th>\n",
       "      <td>211049.250000</td>\n",
       "      <td>51.000000</td>\n",
       "      <td>4.000000</td>\n",
       "      <td>4.00000</td>\n",
       "      <td>10.000000</td>\n",
       "      <td>4.000000</td>\n",
       "    </tr>\n",
       "    <tr>\n",
       "      <th>max</th>\n",
       "      <td>234499.000000</td>\n",
       "      <td>60.000000</td>\n",
       "      <td>5.000000</td>\n",
       "      <td>5.00000</td>\n",
       "      <td>12.000000</td>\n",
       "      <td>5.000000</td>\n",
       "    </tr>\n",
       "  </tbody>\n",
       "</table>\n",
       "</div>"
      ],
      "text/plain": [
       "                  id           Age  Work Pressure  Job Satisfaction  \\\n",
       "count   93800.000000  93800.000000   75022.000000       75026.00000   \n",
       "mean   187599.500000     40.321685       3.011797           2.96092   \n",
       "std     27077.871962     12.393480       1.403563           1.41071   \n",
       "min    140700.000000     18.000000       1.000000           1.00000   \n",
       "25%    164149.750000     29.000000       2.000000           2.00000   \n",
       "50%    187599.500000     42.000000       3.000000           3.00000   \n",
       "75%    211049.250000     51.000000       4.000000           4.00000   \n",
       "max    234499.000000     60.000000       5.000000           5.00000   \n",
       "\n",
       "       Work/Study Hours  Financial Stress  \n",
       "count      93800.000000      93800.000000  \n",
       "mean           6.247335          2.978763  \n",
       "std            3.858191          1.414604  \n",
       "min            0.000000          1.000000  \n",
       "25%            3.000000          2.000000  \n",
       "50%            6.000000          3.000000  \n",
       "75%           10.000000          4.000000  \n",
       "max           12.000000          5.000000  "
      ]
     },
     "execution_count": 18,
     "metadata": {},
     "output_type": "execute_result"
    }
   ],
   "source": [
    "df.describe()"
   ]
  },
  {
   "cell_type": "markdown",
   "id": "9576ed6e-150e-423e-88ec-14668148a2ea",
   "metadata": {},
   "source": [
    "# Obeservation:\n",
    "- The summary shows fundamental measures like mean,min,max, and standard deviation for all numerical columns.                                                                                  "
   ]
  },
  {
   "cell_type": "markdown",
   "id": "52362ad4-9442-4901-af14-f8ae0c8e20e1",
   "metadata": {},
   "source": [
    "# Statistical Overview of categorical Data"
   ]
  },
  {
   "cell_type": "code",
   "execution_count": 20,
   "id": "55803a63-d950-44ff-a0ec-251b7f0a59fe",
   "metadata": {},
   "outputs": [
    {
     "data": {
      "text/html": [
       "<div>\n",
       "<style scoped>\n",
       "    .dataframe tbody tr th:only-of-type {\n",
       "        vertical-align: middle;\n",
       "    }\n",
       "\n",
       "    .dataframe tbody tr th {\n",
       "        vertical-align: top;\n",
       "    }\n",
       "\n",
       "    .dataframe thead th {\n",
       "        text-align: right;\n",
       "    }\n",
       "</style>\n",
       "<table border=\"1\" class=\"dataframe\">\n",
       "  <thead>\n",
       "    <tr style=\"text-align: right;\">\n",
       "      <th></th>\n",
       "      <th>Name</th>\n",
       "      <th>Gender</th>\n",
       "      <th>City</th>\n",
       "      <th>Working Professional or Student</th>\n",
       "      <th>Profession</th>\n",
       "      <th>Sleep Duration</th>\n",
       "      <th>Dietary Habits</th>\n",
       "      <th>Degree</th>\n",
       "      <th>Suicidal thoughts</th>\n",
       "      <th>Family History of Mental Illness</th>\n",
       "    </tr>\n",
       "  </thead>\n",
       "  <tbody>\n",
       "    <tr>\n",
       "      <th>count</th>\n",
       "      <td>93800</td>\n",
       "      <td>93800</td>\n",
       "      <td>93800</td>\n",
       "      <td>93800</td>\n",
       "      <td>69168</td>\n",
       "      <td>93800</td>\n",
       "      <td>93795</td>\n",
       "      <td>93798</td>\n",
       "      <td>93800</td>\n",
       "      <td>93800</td>\n",
       "    </tr>\n",
       "    <tr>\n",
       "      <th>unique</th>\n",
       "      <td>374</td>\n",
       "      <td>2</td>\n",
       "      <td>68</td>\n",
       "      <td>2</td>\n",
       "      <td>64</td>\n",
       "      <td>31</td>\n",
       "      <td>22</td>\n",
       "      <td>87</td>\n",
       "      <td>2</td>\n",
       "      <td>2</td>\n",
       "    </tr>\n",
       "    <tr>\n",
       "      <th>top</th>\n",
       "      <td>Rohan</td>\n",
       "      <td>Male</td>\n",
       "      <td>Kalyan</td>\n",
       "      <td>Working Professional</td>\n",
       "      <td>Teacher</td>\n",
       "      <td>Less than 5 hours</td>\n",
       "      <td>Moderate</td>\n",
       "      <td>Class 12</td>\n",
       "      <td>No</td>\n",
       "      <td>No</td>\n",
       "    </tr>\n",
       "    <tr>\n",
       "      <th>freq</th>\n",
       "      <td>2112</td>\n",
       "      <td>51262</td>\n",
       "      <td>4387</td>\n",
       "      <td>75028</td>\n",
       "      <td>16385</td>\n",
       "      <td>25661</td>\n",
       "      <td>33018</td>\n",
       "      <td>9812</td>\n",
       "      <td>47375</td>\n",
       "      <td>47118</td>\n",
       "    </tr>\n",
       "  </tbody>\n",
       "</table>\n",
       "</div>"
      ],
      "text/plain": [
       "         Name Gender    City Working Professional or Student Profession  \\\n",
       "count   93800  93800   93800                           93800      69168   \n",
       "unique    374      2      68                               2         64   \n",
       "top     Rohan   Male  Kalyan            Working Professional    Teacher   \n",
       "freq     2112  51262    4387                           75028      16385   \n",
       "\n",
       "           Sleep Duration Dietary Habits    Degree Suicidal thoughts  \\\n",
       "count               93800          93795     93798             93800   \n",
       "unique                 31             22        87                 2   \n",
       "top     Less than 5 hours       Moderate  Class 12                No   \n",
       "freq                25661          33018      9812             47375   \n",
       "\n",
       "       Family History of Mental Illness  \n",
       "count                             93800  \n",
       "unique                                2  \n",
       "top                                  No  \n",
       "freq                              47118  "
      ]
     },
     "execution_count": 20,
     "metadata": {},
     "output_type": "execute_result"
    }
   ],
   "source": [
    "df.describe(include=(\"O\"))"
   ]
  },
  {
   "cell_type": "markdown",
   "id": "a97ad7b5-0849-492f-bce4-a4b5e595cce1",
   "metadata": {},
   "source": [
    "# Observation:\n",
    "- The summary provides frequency,counts,top and number of unique entries."
   ]
  },
  {
   "cell_type": "markdown",
   "id": "d8faec57-4d81-41a5-b6cb-f23cbbf0bf3c",
   "metadata": {},
   "source": [
    "# Null Value Count Across All Columns"
   ]
  },
  {
   "cell_type": "code",
   "execution_count": 21,
   "id": "a4acf6c9-c366-4fe0-9a76-d52a90c9e261",
   "metadata": {},
   "outputs": [
    {
     "data": {
      "text/plain": [
       "id                                      0\n",
       "Name                                    0\n",
       "Gender                                  0\n",
       "Age                                     0\n",
       "City                                    0\n",
       "Working Professional or Student         0\n",
       "Profession                          24632\n",
       "Work Pressure                       18778\n",
       "Job Satisfaction                    18774\n",
       "Sleep Duration                          0\n",
       "Dietary Habits                          5\n",
       "Degree                                  2\n",
       "Suicidal thoughts                       0\n",
       "Work/Study Hours                        0\n",
       "Financial Stress                        0\n",
       "Family History of Mental Illness        0\n",
       "dtype: int64"
      ]
     },
     "execution_count": 21,
     "metadata": {},
     "output_type": "execute_result"
    }
   ],
   "source": [
    "df.isnull().sum()"
   ]
  },
  {
   "cell_type": "markdown",
   "id": "750024c0-66c3-4f8e-abe7-9d07709ad901",
   "metadata": {},
   "source": [
    "# Percentage of Missing Values"
   ]
  },
  {
   "cell_type": "code",
   "execution_count": 22,
   "id": "a6a9b8a0-3bf7-4dfd-9804-c6f50a1292ad",
   "metadata": {},
   "outputs": [
    {
     "data": {
      "text/plain": [
       "id                                   0.0\n",
       "Name                                 0.0\n",
       "Gender                               0.0\n",
       "Age                                  0.0\n",
       "City                                 0.0\n",
       "Working Professional or Student      0.0\n",
       "Profession                          26.0\n",
       "Work Pressure                       20.0\n",
       "Job Satisfaction                    20.0\n",
       "Sleep Duration                       0.0\n",
       "Dietary Habits                       0.0\n",
       "Degree                               0.0\n",
       "Suicidal thoughts                    0.0\n",
       "Work/Study Hours                     0.0\n",
       "Financial Stress                     0.0\n",
       "Family History of Mental Illness     0.0\n",
       "dtype: float64"
      ]
     },
     "execution_count": 22,
     "metadata": {},
     "output_type": "execute_result"
    }
   ],
   "source": [
    "round(df.isnull().sum()/len(df)*100)"
   ]
  },
  {
   "cell_type": "markdown",
   "id": "b2c24f29-9f79-42fb-9144-ba0ad4fc6539",
   "metadata": {},
   "source": [
    "# Observation:\n",
    "- 6 columns containg missing values:\n",
    "- Profession --> 26% missing values.              \n",
    "- Work Pressure --> 20% missing values.                              \n",
    "- Job Satisfaction --> 20% missing values."
   ]
  },
  {
   "cell_type": "code",
   "execution_count": 23,
   "id": "de58f044-5de1-403b-82fb-282d3c331a82",
   "metadata": {},
   "outputs": [
    {
     "name": "stdout",
     "output_type": "stream",
     "text": [
      "<class 'pandas.core.frame.DataFrame'>\n",
      "RangeIndex: 93800 entries, 0 to 93799\n",
      "Data columns (total 16 columns):\n",
      " #   Column                            Non-Null Count  Dtype  \n",
      "---  ------                            --------------  -----  \n",
      " 0   id                                93800 non-null  int64  \n",
      " 1   Name                              93800 non-null  object \n",
      " 2   Gender                            93800 non-null  object \n",
      " 3   Age                               93800 non-null  float64\n",
      " 4   City                              93800 non-null  object \n",
      " 5   Working Professional or Student   93800 non-null  object \n",
      " 6   Profession                        69168 non-null  object \n",
      " 7   Work Pressure                     75022 non-null  float64\n",
      " 8   Job Satisfaction                  75026 non-null  float64\n",
      " 9   Sleep Duration                    93800 non-null  object \n",
      " 10  Dietary Habits                    93795 non-null  object \n",
      " 11  Degree                            93798 non-null  object \n",
      " 12  Suicidal thoughts                 93800 non-null  object \n",
      " 13  Work/Study Hours                  93800 non-null  float64\n",
      " 14  Financial Stress                  93800 non-null  float64\n",
      " 15  Family History of Mental Illness  93800 non-null  object \n",
      "dtypes: float64(5), int64(1), object(10)\n",
      "memory usage: 11.5+ MB\n"
     ]
    }
   ],
   "source": [
    "df.info()"
   ]
  },
  {
   "cell_type": "markdown",
   "id": "8584c364-a3aa-47f9-9792-430ff19896a3",
   "metadata": {},
   "source": [
    "# Value Count Summary(Mental Health of a students and working professionals):"
   ]
  },
  {
   "cell_type": "markdown",
   "id": "0e1aa7ab-58a1-4266-b41d-7e936ff4cb9f",
   "metadata": {},
   "source": [
    "## 1.id\n",
    "- It contain integers values.\n",
    "- Each Id contain different integer id number.\n",
    "- fully complete,no missing values."
   ]
  },
  {
   "cell_type": "markdown",
   "id": "9f0ab04c-ec23-4b42-b559-497ec85c951b",
   "metadata": {},
   "source": [
    "## 2.Name\n",
    "- name of a person.\n",
    "- no missing values."
   ]
  },
  {
   "cell_type": "markdown",
   "id": "41f42775-e0db-4c63-9be7-247c7e3ac358",
   "metadata": {},
   "source": [
    "## 3.Gender\n",
    "- It contain gender of a person(Male/Female).\n",
    "- no missing values."
   ]
  },
  {
   "cell_type": "markdown",
   "id": "6b959aad-5999-4a00-bf5b-3f5ad819bfb5",
   "metadata": {},
   "source": [
    "## 4.Age\n",
    "- it contain age of a person in numerical values.\n",
    "- no missing values."
   ]
  },
  {
   "cell_type": "markdown",
   "id": "ae3e3267-a788-444d-8e43-2360bbc183a1",
   "metadata": {},
   "source": [
    "## 5. Working Professional or Student\n",
    "- it contain a person is  Working Professional or Student.\n",
    "- no missing values."
   ]
  },
  {
   "cell_type": "markdown",
   "id": "c51e911c-7cdd-4281-a9f1-e5d5628e09e3",
   "metadata": {},
   "source": [
    "## 6. Profession   \n",
    "- it contain, a person is in which profession(teacher,loyer,etc..).\n",
    "- 24632 missing values"
   ]
  },
  {
   "cell_type": "markdown",
   "id": "1e4d3927-964b-4ac0-86c1-05731eb8ac06",
   "metadata": {},
   "source": [
    "## 7.Work Pressure \n",
    "- the work pressure of a person in daily life.\n",
    "- 18774 missing values."
   ]
  },
  {
   "cell_type": "markdown",
   "id": "e29d55c0-c31d-4b13-872b-ec00041ab06f",
   "metadata": {},
   "source": [
    "## 8.Job Satisfaction\n",
    "- Rating of satisfaction with their job.\n",
    "- 18774 missing values."
   ]
  },
  {
   "cell_type": "markdown",
   "id": "93fb674f-9db2-4029-a13a-09941ac40cb1",
   "metadata": {},
   "source": [
    "## 9.Sleep Duration\n",
    "- Average sleep duration(like 6 hours,7 hours).\n",
    "- 5 missing values"
   ]
  },
  {
   "cell_type": "markdown",
   "id": "21e02c92-31b2-4304-bd29-4324dd6b4b0c",
   "metadata": {},
   "source": [
    "## 10. Dietary Habits.\n",
    "- eating habits.\n",
    "- 2 missing values."
   ]
  },
  {
   "cell_type": "markdown",
   "id": "b0539978-87f9-439d-9826-25cbc1cac41e",
   "metadata": {},
   "source": [
    "## 11.Degree\n",
    "- The Degree/course they are pursing.\n",
    "- 2 missing values."
   ]
  },
  {
   "cell_type": "markdown",
   "id": "8b659b16-94a7-4b31-98b7-c4645630200f",
   "metadata": {},
   "source": [
    "## 12.suicidal thoughts\n",
    "- the thougths of a persons.\n",
    "- no missing values."
   ]
  },
  {
   "cell_type": "markdown",
   "id": "9504e963-5f67-47a9-8fbb-a520a3c8a259",
   "metadata": {},
   "source": [
    "## 13.Work/Study Hours\n",
    "- Average number of hours spent working/studying per day."
   ]
  },
  {
   "cell_type": "markdown",
   "id": "55a03429-a338-400b-a886-53e9e38addab",
   "metadata": {},
   "source": [
    "## 14. Finacial Stress\n",
    "- Numeric rating of financial pressure(like difficulty affording tution,expensenses."
   ]
  },
  {
   "cell_type": "markdown",
   "id": "545aa4c9-9d02-4076-860f-39e0985967eb",
   "metadata": {},
   "source": [
    "## 15.city\n",
    "- city of residence."
   ]
  },
  {
   "cell_type": "markdown",
   "id": "dcff2d58-8477-48f5-beb0-972671a4f76d",
   "metadata": {},
   "source": [
    "## 16.Family History ofMental illness.\n",
    "- whether any close family members have mental illness or not."
   ]
  },
  {
   "cell_type": "code",
   "execution_count": 31,
   "id": "e574abe4-6f3b-4349-9031-2e30cfac77d2",
   "metadata": {},
   "outputs": [
    {
     "data": {
      "text/plain": [
       "id\n",
       "140700    1\n",
       "203240    1\n",
       "203238    1\n",
       "203237    1\n",
       "203236    1\n",
       "         ..\n",
       "171965    1\n",
       "171964    1\n",
       "171963    1\n",
       "171962    1\n",
       "234499    1\n",
       "Name: count, Length: 93800, dtype: int64"
      ]
     },
     "execution_count": 31,
     "metadata": {},
     "output_type": "execute_result"
    }
   ],
   "source": [
    "df[\"id\"].value_counts()"
   ]
  },
  {
   "cell_type": "markdown",
   "id": "ff93308c-7dba-4ce2-9390-ad3cba454730",
   "metadata": {},
   "source": [
    "# Observation\n",
    "- every id occurs 1 time in id column, so it shows 1 for each id.\n",
    "- and also it shows its length that is 93800 and also dtype(datatype) is int64."
   ]
  },
  {
   "cell_type": "code",
   "execution_count": 35,
   "id": "693861e4-aef4-4b9d-912c-2a45e8fcb3db",
   "metadata": {},
   "outputs": [
    {
     "data": {
      "text/plain": [
       "Age\n",
       "56.00    3432\n",
       "49.00    3425\n",
       "38.00    3008\n",
       "53.00    2958\n",
       "57.00    2875\n",
       "47.00    2740\n",
       "46.00    2728\n",
       "18.00    2614\n",
       "59.00    2551\n",
       "54.00    2549\n",
       "51.00    2544\n",
       "43.00    2506\n",
       "48.00    2459\n",
       "20.00    2335\n",
       "45.00    2329\n",
       "50.00    2311\n",
       "24.00    2296\n",
       "42.00    2295\n",
       "28.00    2292\n",
       "39.00    2279\n",
       "44.00    2242\n",
       "29.00    2152\n",
       "41.00    2093\n",
       "33.00    2057\n",
       "58.00    1982\n",
       "25.00    1953\n",
       "40.00    1950\n",
       "35.00    1940\n",
       "21.00    1930\n",
       "55.00    1923\n",
       "23.00    1870\n",
       "37.00    1789\n",
       "34.00    1785\n",
       "36.00    1742\n",
       "19.00    1731\n",
       "27.00    1719\n",
       "60.00    1701\n",
       "52.00    1687\n",
       "31.00    1660\n",
       "22.00    1417\n",
       "26.00    1362\n",
       "30.00    1361\n",
       "32.00    1227\n",
       "32.08       1\n",
       "Name: count, dtype: int64"
      ]
     },
     "execution_count": 35,
     "metadata": {},
     "output_type": "execute_result"
    }
   ],
   "source": [
    "df[\"Age\"].value_counts()"
   ]
  },
  {
   "cell_type": "code",
   "execution_count": 36,
   "id": "4586bed3-26b9-4f5f-a305-734eb6894b52",
   "metadata": {},
   "outputs": [
    {
     "data": {
      "text/plain": [
       "44"
      ]
     },
     "execution_count": 36,
     "metadata": {},
     "output_type": "execute_result"
    }
   ],
   "source": [
    "len(df[\"Age\"].value_counts())"
   ]
  },
  {
   "cell_type": "markdown",
   "id": "24db496c-03b8-4315-8e25-fb69489823ae",
   "metadata": {},
   "source": [
    "# Observation\n",
    "- It shows Ages of a persons and how many times each age repeated in age cloumns.\n",
    "- and ages contain float values.\n",
    "- and also it shows dtype(datatype) is int64.\n",
    "- and its length is 44."
   ]
  },
  {
   "cell_type": "code",
   "execution_count": 38,
   "id": "39bfa048-a553-425d-a004-80450a5b3c59",
   "metadata": {},
   "outputs": [
    {
     "data": {
      "text/plain": [
       "Work Pressure\n",
       "2.0    16255\n",
       "5.0    15113\n",
       "4.0    14974\n",
       "3.0    14650\n",
       "1.0    14030\n",
       "Name: count, dtype: int64"
      ]
     },
     "execution_count": 38,
     "metadata": {},
     "output_type": "execute_result"
    }
   ],
   "source": [
    "df[\"Work Pressure\"].value_counts()"
   ]
  },
  {
   "cell_type": "markdown",
   "id": "2d6f6cba-07a2-4ada-818e-cb94467d3ca9",
   "metadata": {},
   "source": [
    "# Observation\n",
    "- It shows the work pressure of a persons.\n",
    "- it contain ratings out of 5.0.\n",
    "- it is in a float values."
   ]
  },
  {
   "cell_type": "code",
   "execution_count": 40,
   "id": "ea1c6e3d-462a-43b1-958e-157fc0277bcd",
   "metadata": {},
   "outputs": [
    {
     "data": {
      "text/plain": [
       "Job Satisfaction\n",
       "2.0    16971\n",
       "5.0    14827\n",
       "1.0    14793\n",
       "3.0    14464\n",
       "4.0    13971\n",
       "Name: count, dtype: int64"
      ]
     },
     "execution_count": 40,
     "metadata": {},
     "output_type": "execute_result"
    }
   ],
   "source": [
    "df[\"Job Satisfaction\"].value_counts()"
   ]
  },
  {
   "cell_type": "markdown",
   "id": "f03fe086-8a53-4b42-a0b3-3243360f0060",
   "metadata": {},
   "source": [
    "# Observation\n",
    "- It shows the job satisfaction of a persons.\n",
    "- it contain rating out of 5.0.\n",
    "- it is in float values.\n"
   ]
  },
  {
   "cell_type": "code",
   "execution_count": 41,
   "id": "e056277e-b153-4238-ba7e-746bca47afcc",
   "metadata": {},
   "outputs": [
    {
     "data": {
      "text/plain": [
       "Work/Study Hours\n",
       "10.0    9450\n",
       "11.0    8555\n",
       "9.0     8315\n",
       "0.0     8132\n",
       "12.0    7657\n",
       "2.0     7083\n",
       "6.0     7029\n",
       "7.0     6646\n",
       "1.0     6525\n",
       "3.0     6261\n",
       "5.0     6118\n",
       "4.0     6079\n",
       "8.0     5950\n",
       "Name: count, dtype: int64"
      ]
     },
     "execution_count": 41,
     "metadata": {},
     "output_type": "execute_result"
    }
   ],
   "source": [
    "df[\"Work/Study Hours\"].value_counts()"
   ]
  },
  {
   "cell_type": "markdown",
   "id": "176b5c6c-8f6d-4743-92d4-83020b195e89",
   "metadata": {},
   "source": [
    "# Observation\n",
    "- It shows the work/study hours of a person.\n",
    "- it contain how many hours in a day a person work/studied.\n",
    "- The hours contain float values.\n"
   ]
  },
  {
   "cell_type": "code",
   "execution_count": 42,
   "id": "791fd9fd-2c50-4c9d-8ec3-7e316e08675f",
   "metadata": {},
   "outputs": [
    {
     "data": {
      "text/plain": [
       "Financial Stress\n",
       "2.0    21151\n",
       "5.0    18694\n",
       "4.0    18453\n",
       "1.0    18341\n",
       "3.0    17161\n",
       "Name: count, dtype: int64"
      ]
     },
     "execution_count": 42,
     "metadata": {},
     "output_type": "execute_result"
    }
   ],
   "source": [
    "df[\"Financial Stress\"].value_counts()"
   ]
  },
  {
   "cell_type": "markdown",
   "id": "8c3771b1-ec1e-40a8-8365-e8a8e54c913d",
   "metadata": {},
   "source": [
    "# Observation\n",
    "- It shows financial stress of a person.\n",
    "- it contain rating out of 5.0.\n",
    "- it contain float values."
   ]
  },
  {
   "cell_type": "code",
   "execution_count": 43,
   "id": "2a4c9e26-9689-4312-b889-027690f10bcb",
   "metadata": {},
   "outputs": [
    {
     "name": "stdout",
     "output_type": "stream",
     "text": [
      "<class 'pandas.core.frame.DataFrame'>\n",
      "RangeIndex: 93800 entries, 0 to 93799\n",
      "Data columns (total 16 columns):\n",
      " #   Column                            Non-Null Count  Dtype  \n",
      "---  ------                            --------------  -----  \n",
      " 0   id                                93800 non-null  int64  \n",
      " 1   Name                              93800 non-null  object \n",
      " 2   Gender                            93800 non-null  object \n",
      " 3   Age                               93800 non-null  float64\n",
      " 4   City                              93800 non-null  object \n",
      " 5   Working Professional or Student   93800 non-null  object \n",
      " 6   Profession                        69168 non-null  object \n",
      " 7   Work Pressure                     75022 non-null  float64\n",
      " 8   Job Satisfaction                  75026 non-null  float64\n",
      " 9   Sleep Duration                    93800 non-null  object \n",
      " 10  Dietary Habits                    93795 non-null  object \n",
      " 11  Degree                            93798 non-null  object \n",
      " 12  Suicidal thoughts                 93800 non-null  object \n",
      " 13  Work/Study Hours                  93800 non-null  float64\n",
      " 14  Financial Stress                  93800 non-null  float64\n",
      " 15  Family History of Mental Illness  93800 non-null  object \n",
      "dtypes: float64(5), int64(1), object(10)\n",
      "memory usage: 11.5+ MB\n"
     ]
    }
   ],
   "source": [
    "df.info()"
   ]
  },
  {
   "cell_type": "markdown",
   "id": "9a40a5a7-0bc4-43b5-9864-3c42fe190f16",
   "metadata": {},
   "source": [
    "# Real Numerical columns"
   ]
  },
  {
   "cell_type": "markdown",
   "id": "65562156-5a29-4c0b-a36b-4b69f9e26270",
   "metadata": {},
   "source": [
    "- Age\n",
    "  - observation: continuous variable showing respondent ages, no missing values.\n",
    "\n",
    "- Work Pressure\n",
    "  - observation: numerical but has missing values, measures stress level at work.\n",
    "\n",
    "- Job Satisfaction\n",
    "  - observation:numerical, missing values, reflects satisfaction score.\n",
    "\n",
    "- Work/Study Hours\n",
    "   - observation: numerical, likely to show distribution of daily/weekly hours spent.\n",
    "\n",
    "- Financial Stress\n",
    "   - observation: numerical, non-missing, quantifies financial burden."
   ]
  },
  {
   "cell_type": "markdown",
   "id": "cd0d34cc-8df7-4e11-be29-cc848b631d36",
   "metadata": {},
   "source": [
    "# Discrete Numerical Columns"
   ]
  },
  {
   "cell_type": "markdown",
   "id": "00e6b320-e6e7-4022-a0ba-a1e02ee20566",
   "metadata": {},
   "source": [
    "- id\n",
    "   - observation: id is purely acts as a unique identifier, not used in statistical/ML analysis.\n",
    "\n",
    "- Age\n",
    "   - observation: age will show natural clustering around young adults (students) or working-age groups → useful for demographic segmentation.\n",
    "- Work/Study Hours\n",
    "    - observation: reflects daily/weekly effort; analyzing its distribution can highlight overwork or under-study patterns.\n",
    "                                                                                                                \n",
    "                          "
   ]
  },
  {
   "cell_type": "markdown",
   "id": "687cced3-8d39-4ea0-968b-3e835fe724a5",
   "metadata": {},
   "source": [
    "# Categorical Data Columns"
   ]
  },
  {
   "cell_type": "markdown",
   "id": "90bc4343-4059-4287-a398-9fbd37ccbae1",
   "metadata": {},
   "source": [
    "- Name \n",
    "- Gender \n",
    "- City \n",
    "- Working Professional or Student \n",
    "- Profession \n",
    "- Sleep Duration \n",
    "- Dietary Habits \n",
    "- Degree \n",
    "- Suicidal thoughts "
   ]
  },
  {
   "cell_type": "markdown",
   "id": "09ddc65e-e1a9-4c2d-a4d3-99dbe518fc66",
   "metadata": {},
   "source": [
    "# Checking for Duplicates"
   ]
  },
  {
   "cell_type": "code",
   "execution_count": 45,
   "id": "0df63181-5fae-4f8c-8d72-a4e774d84b4f",
   "metadata": {},
   "outputs": [
    {
     "data": {
      "text/plain": [
       "0"
      ]
     },
     "execution_count": 45,
     "metadata": {},
     "output_type": "execute_result"
    }
   ],
   "source": [
    "df.duplicated().sum()"
   ]
  },
  {
   "cell_type": "markdown",
   "id": "7a072069-787b-4a4d-95e9-bbc8178301d0",
   "metadata": {},
   "source": [
    "# Observation:\n",
    "- As seen there are no duplicates found in the dataset."
   ]
  },
  {
   "cell_type": "markdown",
   "id": "3509f7f4-13e8-4ad2-8a1b-793e09381810",
   "metadata": {},
   "source": [
    "# Detecting Outliers\n",
    "- The IQR(Interquartile Range) method was used to detect outliers in all numerical columns as part of the non-visual analysis."
   ]
  },
  {
   "cell_type": "markdown",
   "id": "cf8c446f-90b7-4e3c-889e-eee2e0f1d47e",
   "metadata": {},
   "source": [
    "# Steps:\n",
    "- Calculate Q1(25th percentile) and Q3 (75th percentile).\n",
    "- Compute IQR = Q3-Q1.\n",
    "- Define lower and upper bounds.\n",
    "- Lower bounds = Q1 - 1.5 x IQR.\n",
    "- Upeer bounds = Q3 + 1.5 x IQR.\n",
    "- Any value outside this range is considered an outlier."
   ]
  },
  {
   "cell_type": "code",
   "execution_count": 24,
   "id": "b473765f-7084-4d94-b3bc-73b88aef15d8",
   "metadata": {},
   "outputs": [],
   "source": [
    "num_cols = df.select_dtypes(include=['float64', 'int64']).columns"
   ]
  },
  {
   "cell_type": "code",
   "execution_count": 25,
   "id": "b978dbc3-770a-41f0-9e07-d66624949271",
   "metadata": {},
   "outputs": [],
   "source": [
    "outliers = {}"
   ]
  },
  {
   "cell_type": "code",
   "execution_count": 28,
   "id": "7cf7c40d-d023-4929-b020-6fc9ac1cbacf",
   "metadata": {},
   "outputs": [],
   "source": [
    "outliers = {}\n",
    "for col in num_cols:\n",
    "    if df[col].isnull().all():\n",
    "        continue  # Skip the columns with all missing values\n",
    "    Q1 = df[col].quantile(0.25)\n",
    "    Q3 = df[col].quantile(0.75)\n",
    "    IQR = Q3 - Q1\n",
    "    lower = Q1 - 1.5 * IQR\n",
    "    upper = Q3 + 1.5 * IQR\n",
    "    outlier_values = df[(df[col] < lower) | (df[col] > upper)][col]\n",
    "    if not outlier_values.empty:\n",
    "        outliers[col] = outlier_values.tolist()"
   ]
  },
  {
   "cell_type": "code",
   "execution_count": 29,
   "id": "f27b869c-292e-4790-b3ff-572c0275ea9c",
   "metadata": {},
   "outputs": [
    {
     "name": "stdout",
     "output_type": "stream",
     "text": [
      "No outliers found in the numerical columns.\n"
     ]
    }
   ],
   "source": [
    "if outliers:\n",
    "    for col, vals in outliers.items():\n",
    "        print(f\"\\nOutliers in column '{col}':\\n{vals}\")\n",
    "else:\n",
    "      print(\"No outliers found in the numerical columns.\")"
   ]
  },
  {
   "cell_type": "markdown",
   "id": "f1197225-3a47-4846-a937-e9a98a645012",
   "metadata": {},
   "source": [
    "# Observation:\n",
    "- Using the IQR method,outliers were detected in the Projected Openings(ZERO) columns."
   ]
  },
  {
   "cell_type": "code",
   "execution_count": null,
   "id": "4c6d4175-77dc-4be2-861a-3ee7f564a9a5",
   "metadata": {},
   "outputs": [],
   "source": []
  }
 ],
 "metadata": {
  "kernelspec": {
   "display_name": "Python [conda env:base] *",
   "language": "python",
   "name": "conda-base-py"
  },
  "language_info": {
   "codemirror_mode": {
    "name": "ipython",
    "version": 3
   },
   "file_extension": ".py",
   "mimetype": "text/x-python",
   "name": "python",
   "nbconvert_exporter": "python",
   "pygments_lexer": "ipython3",
   "version": "3.12.7"
  }
 },
 "nbformat": 4,
 "nbformat_minor": 5
}
